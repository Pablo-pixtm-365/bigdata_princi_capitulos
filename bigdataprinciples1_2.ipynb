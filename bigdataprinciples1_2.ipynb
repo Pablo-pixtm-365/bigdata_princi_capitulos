{
 "cells": [
  {
   "cell_type": "markdown",
   "metadata": {},
   "source": [
    "### Chapter 1"
   ]
  },
  {
   "cell_type": "markdown",
   "metadata": {},
   "source": [
    "1.- A new breed of technologies has emerged for the big data, by what name are they known?\n",
    "- NoSQL"
   ]
  },
  {
   "cell_type": "markdown",
   "metadata": {},
   "source": [
    "2.- What was the first solution to a simple web analysis application?\n",
    "- To insert a queue between the web server and the database."
   ]
  },
  {
   "cell_type": "markdown",
   "metadata": {},
   "source": [
    "3.- What was the second solution for a simple web analysis application?\n",
    "- to use multiple database servers and spread the table across all the servers. Each server will have a subset of the data for the table.\n",
    "\n",
    "4.- by what name is it known?\n",
    "- horizontal partitioning or sharding\n"
   ]
  },
  {
   "cell_type": "markdown",
   "metadata": {},
   "source": [
    "5.- What is a panacea?\n",
    "- Panacea is a mythical medicine that cures all diseases or even prolongs life indefinitely.\n",
    "\n",
    "6.- Why \"NoSQL\" is not a panacea?\n",
    "- Because each of the tools such as Hadoop, Cassandra among others by themselves have disadvantages or limits, but using them together and in an intelligent way can have a great benefit.\n"
   ]
  },
  {
   "cell_type": "markdown",
   "metadata": {},
   "source": [
    "7.- Why data systems not only memorize and regurgitate information?\n",
    "- Because there are data that was not recorded from the beginning, but is the result of various operations, as an example the book provides someone's account statement, which is derived from a transaction history.\n",
    "\n"
   ]
  },
  {
   "cell_type": "markdown",
   "metadata": {},
   "source": [
    "8.- What are the desired properties of a Big Data system?\n",
    "* Robustness and fault tolerance, Low latency reads and updates, Scalability, Generalization, Extensibility, Ad hoc queries, Minimal maintenance and Debuggability.\n"
   ]
  },
  {
   "cell_type": "markdown",
   "metadata": {},
   "source": [
    "9.- What has the CAP theorem shown?\n",
    "- It’s impossible to achieve both high availability and consistency in the same system in the presence of network partitions.\n",
    "\n",
    "10.- What type of architecture updates directly to the database? \n",
    "- Synchronous\n",
    "\n",
    "11.- Which layers of the lambda architecture satisfy almost all the properties in a big data system?\n",
    "- Batch layer and Serving layer"
   ]
  },
  {
   "cell_type": "markdown",
   "metadata": {},
   "source": [
    "### Chapter 2"
   ]
  },
  {
   "cell_type": "markdown",
   "metadata": {},
   "source": [
    "1.- Is it the source of truth in Lambda architecture? and why?\n",
    "- The master dataset, because without it, the system could not be restored, seeing as being the root or mother earth.\n",
    "\n",
    "2.- What does the book refer to with crude property?\n",
    "- The data of one person is more valuable than that of another\n",
    "\n",
    "3.- When to store unstructured data?\n",
    "- if the extraction algorithm is simple, precise, and subject to change, due to improvements or extension of requirement.\n",
    "\n",
    "4.- mention any advantage of having an immutable schema\n",
    "- Human-fault tolerance and Simplicity\n"
   ]
  },
  {
   "cell_type": "markdown",
   "metadata": {},
   "source": [
    "5.- What is the Garbage collection?\n",
    "- Delete all data units that have a low value.\n",
    "\n",
    "6.- What's the name of the storage model, which reconstructs the data into fundamental units called facts?\n",
    "- fact-based model xd\n"
   ]
  },
  {
   "cell_type": "code",
   "execution_count": null,
   "metadata": {},
   "outputs": [],
   "source": []
  }
 ],
 "metadata": {
  "kernelspec": {
   "display_name": "Python 3",
   "language": "python",
   "name": "python3"
  },
  "language_info": {
   "codemirror_mode": {
    "name": "ipython",
    "version": 3
   },
   "file_extension": ".py",
   "mimetype": "text/x-python",
   "name": "python",
   "nbconvert_exporter": "python",
   "pygments_lexer": "ipython3",
   "version": "3.7.3"
  }
 },
 "nbformat": 4,
 "nbformat_minor": 2
}
